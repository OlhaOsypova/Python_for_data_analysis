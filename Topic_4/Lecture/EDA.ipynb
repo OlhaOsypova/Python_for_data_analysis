{
 "cells": [
  {
   "cell_type": "markdown",
   "metadata": {},
   "source": [
    "## Розвідковий аналіз даних  \n",
    "Розвідковий аналіз даних (англ. Exploratory data analysis, EDA) - аналіз основних властивостей даних, знаходження в них загальних закономірностей, розподілів і аномалій, побудова початкових моделей, часто з використанням інструментів візуалізації.\n",
    "\n",
    "Поняття введено математиком Джоном Тьюкі, який сформулював мету такого аналізу в такий спосіб:\n",
    "- максимальне «проникнення» в дані,   \n",
    "- виявлення основних структур в даних,   \n",
    "- вибір найбільш важливих змінних,  \n",
    "- виявлення відхилень і аномалій,  \n",
    "- перевірка основних гіпотез,   \n",
    "- розробка початкових моделей."
   ]
  },
  {
   "cell_type": "code",
   "execution_count": null,
   "metadata": {},
   "outputs": [],
   "source": [
    "#  імпортуємо необхідні бібліотеки\n",
    "import pandas as pd\n",
    "import matplotlib.pyplot as plt\n",
    "import seaborn as sns\n",
    "sns.set_context(\"paper\")\n",
    "sns.set_palette('Dark2')"
   ]
  },
  {
   "cell_type": "code",
   "execution_count": null,
   "metadata": {},
   "outputs": [],
   "source": [
    "# графіки вбудовуються в блокнот \n",
    "%matplotlib inline"
   ]
  },
  {
   "cell_type": "code",
   "execution_count": null,
   "metadata": {},
   "outputs": [],
   "source": [
    "# відключити попередження Anaconda\n",
    "import warnings\n",
    "warnings.simplefilter('ignore')"
   ]
  },
  {
   "cell_type": "code",
   "execution_count": null,
   "metadata": {},
   "outputs": [],
   "source": [
    "# встановимо, що в цислах типу float виводити 2 знаки після роздільника\n",
    "pd.options.display.float_format = '{:.2f}'.format"
   ]
  },
  {
   "cell_type": "code",
   "execution_count": null,
   "metadata": {},
   "outputs": [],
   "source": [
    "# Зчитуємо в датафрейм df файл з початковими даними\n",
    "data = pd.read_csv('survey.csv')\n",
    "data.head(2)"
   ]
  },
  {
   "cell_type": "markdown",
   "metadata": {},
   "source": [
    "**Датафрейм містить результати щорічного опитування користувачів сайту Stackoverflow**  \n",
    " \n",
    "Додатково ознайомитися з дуже цікавими результатами найновішого опитування можна тут: [2023 Developer Survey](https://survey.stackoverflow.co/2023/#learning-to-code-learn-code-age)\n",
    "\n",
    "### Опис колонок  \n",
    "MainBranch - розробник/ пишу код у вільний від роботи час  \n",
    "**Age - вік**  \n",
    "**Age1stCode - у якому віці написали перший код**  \n",
    "**ConvertedComp - заробітна плата (у дол. США)**  \n",
    "Country - країна проживання  \n",
    "EdLevel - рівень освіти  \n",
    "Employment - поточний вид зайнятості  \n",
    "Gender - стать  \n",
    "JobSat - оцінка рівня задоволенності роботою  \n",
    "JobSeek - чи знаходитесь ви у пошуку роботи зараз  \n",
    "NEWLearn - як часто ви вивчаєте нову мову програмування  \n",
    "NEWOvertime - як часто ви працюєте понаднормово  \n",
    "OpSys - яку операційну систему використовуєте  \n",
    "SOAccount - наявність акаунту на Stack Overflow  \n",
    "SOComm - чи вважаєте ви себе частиною спільноти Stack Overflow  \n",
    "SOPartFreq - як часто ви берете участь в обговореннях на Stack Overflow  \n",
    "SOVisitFreq - як часто ви відвідуєте Stack Overflow  \n",
    "SurveyEase - наскільки простим було опитування  \n",
    "SurveyLength - наскільки довгим було опитування  \n",
    "UndergradMajor - галузь знань, за якою ви здобули освіту  \n",
    "WelcomeChange - наскільки привітною є спільнота користувачів на Stack Overflow  \n",
    "**WorkWeekHrs** - кількість робочих годин на тиждень  \n",
    "**YearsCode** - скільки років займаєтесь написанням коду  \n",
    "**YearsCodePro** - скільки років професійно займаєтесь написанням коду  "
   ]
  },
  {
   "cell_type": "code",
   "execution_count": null,
   "metadata": {},
   "outputs": [],
   "source": [
    "data.info()"
   ]
  },
  {
   "cell_type": "markdown",
   "metadata": {},
   "source": [
    "### <span style=\"color:red\"> Додатково </span>.  \n",
    "#### Метод .groupby()  \n",
    "Метод використовується для групування даних по категоріях і застосування функції до категорій.  \n",
    "**df.groupby(by='')[column name].function()**  \n",
    "У якості function() найчастіше використовують:  \n",
    "мінімальне min()  \n",
    "максимальне max()  \n",
    "середнє mean()  \n",
    "мода mode()  \n",
    "медіана median()  \n",
    "сума sum()  \n",
    "кількість count()"
   ]
  },
  {
   "cell_type": "code",
   "execution_count": null,
   "metadata": {},
   "outputs": [],
   "source": [
    "# Згрупуємо респондентів за рівнем освіти та розрахуємо медіанну ЗП в кожній категорії\n",
    "data.groupby('EdLevel')[['ConvertedComp']].median()"
   ]
  },
  {
   "cell_type": "markdown",
   "metadata": {},
   "source": [
    "### Сортування  \n",
    "#### використовується метод .sort_values(by = [list of columns])\n",
    "ascending - параметр, який вказує напрям сортування даних:  \n",
    "ascending = 0 (або False) - сортування за спаданням  \n",
    "ascending  = 1 (або True) - сортування за зростанням (встановлено за замовчанням)  \n",
    "inplace=True - якщо потрібно замінити в поточному датафреймі початкові дані на відсортовані"
   ]
  },
  {
   "cell_type": "code",
   "execution_count": null,
   "metadata": {},
   "outputs": [],
   "source": [
    "ukr_prog = data[data['Country'] == 'Ukraine']\n",
    "ukr_prog.sort_values('Age', ascending=0)"
   ]
  },
  {
   "cell_type": "markdown",
   "metadata": {},
   "source": [
    "## 1. Підготовка та очищення даних  "
   ]
  },
  {
   "cell_type": "markdown",
   "metadata": {},
   "source": [
    "### 1.1 Видалення зайвих стовпчиків  \n",
    "**df.drop([list of columns], axis=1)**"
   ]
  },
  {
   "cell_type": "code",
   "execution_count": null,
   "metadata": {},
   "outputs": [],
   "source": [
    "'''припустимо, що колонки 'SOAccount', 'SOComm', 'SOPartFreq','SOVisitFreq', 'SurveyEase', 'SurveyLength', 'WelcomeChange' \n",
    "нас не цікавлять, тому їх варто видалити із датафрейму'''\n",
    "\n",
    "data.drop(['SOAccount', 'SOComm', 'SOPartFreq',\n",
    "       'SOVisitFreq', 'SurveyEase', 'SurveyLength', 'WelcomeChange'], axis=1, inplace=True)"
   ]
  },
  {
   "cell_type": "markdown",
   "metadata": {},
   "source": [
    "### 1.2 Зміна типу даних в колонках з текстового на числовий (за потреби)  \n",
    "**df[name of column] = pd.to_numeric(df[name of column], errors='coerce')**  \n",
    "errors='coerce' - якщо в комірці неможливо конвертувати в числовий тип, то така комірка стає NaN  \n",
    "\n",
    "Іноді при зчитувані даних в датафрейм тип даних в деяких стовпчиках розпізнається некоректно. Наприклад, в нашому датафреймі в стовпчиках Age1stCode, YearsCode, YearsCode міститься числова інформація, проте Пандас відніс інформацію в цих стовпчиках до типу object, тобто до текстової інформації. В такому випадку варто самостійно задати правильний тип даних для уникнення труднощів в подальшій роботі (наприклад, якщо необхідно визначити середній вік першого написання коду (середне значення стовпчика Age1stCode), то це дуже просто зробити для числових даних, але ми отримаємо помилку, якщо значення цього стовпчика будуть типу object)"
   ]
  },
  {
   "cell_type": "code",
   "execution_count": null,
   "metadata": {},
   "outputs": [],
   "source": [
    "# переглянемо тип даних в стовпчиках\n",
    "data.info()"
   ]
  },
  {
   "cell_type": "code",
   "execution_count": null,
   "metadata": {},
   "outputs": [],
   "source": [
    "data['Age1stCode'] = pd.to_numeric(data['Age1stCode'], errors='coerce')\n",
    "data['YearsCode'] = pd.to_numeric(data['YearsCode'], errors='coerce')\n",
    "data['YearsCodePro'] = pd.to_numeric(data['YearsCodePro'], errors='coerce')"
   ]
  },
  {
   "cell_type": "code",
   "execution_count": null,
   "metadata": {},
   "outputs": [],
   "source": [
    "# чи коректно змінено тип даних\n",
    "data.info()"
   ]
  },
  {
   "cell_type": "markdown",
   "metadata": {},
   "source": [
    "## 2. Виявлення та виключення викидів з даних  \n",
    "Виявлення та видалення викидів є важливим кроком у попередній обробці даних для забезпечення достовірності та надійності вашого аналізу.   \n",
    "**Ось загальна стратегія для виявлення та видалення викидів:**\n",
    "- Візуалізуйте дані: Перед виявленням викидів часто корисно візуалізувати ваші дані за допомогою гістограм, box plots, scatter plots або інших відповідних графіків. Візуальний огляд часто може виявити потенційні викиди.  \n",
    "- Визначте критерії для викидів: Визначте критерії для ідентифікації викидів у вашому наборі даних. Загальні методи включають:  \n",
    "а) Використання z-оцінок: Значення, що відхиляються за певною кількістю стандартних відхилень від середнього, вважаються викидами.  \n",
    "б) Міжквартильний розмах (IQR): Значення, які випадають нижче за Q1 - 1.5 * IQR або вище за Q3 + 1.5 * IQR, вважаються викидами.  в) Знання предметної області: Іноді викиди можуть бути виявлені на основі досвіду, професійних знань або бізнес-правил.  \n",
    "  \n",
    "### 2.1 Числові ознаки  \n",
    "На прикладі змінної Age розглянемо виключення викидів, нетипових та помилково введених даних"
   ]
  },
  {
   "cell_type": "code",
   "execution_count": null,
   "metadata": {},
   "outputs": [],
   "source": [
    "data.describe()\n",
    "# межі 1-го, 2-го та 3-го квартилів змінної Age виглядають цілком реалістично, але мінімальне та максимальне значення - ні"
   ]
  },
  {
   "cell_type": "code",
   "execution_count": null,
   "metadata": {},
   "outputs": [],
   "source": [
    "# для діагностики викидів та нетипових спостережень найкраще підходить коррбчаста діаграма\n",
    "#data[['Age']].boxplot(figsize=(5, 5));\n",
    "sns.boxplot(data['Age']);"
   ]
  },
  {
   "cell_type": "code",
   "execution_count": null,
   "metadata": {},
   "outputs": [],
   "source": [
    "# обрала видалити всіх респондентів молодше 10 років та старше 80 років \n",
    "data.drop(data[data['Age'] < 10].index, inplace=True)\n",
    "data.drop(data[data['Age'] > 80].index, inplace=True)"
   ]
  },
  {
   "cell_type": "code",
   "execution_count": null,
   "metadata": {},
   "outputs": [],
   "source": [
    "sns.boxplot(data['Age']);"
   ]
  },
  {
   "cell_type": "markdown",
   "metadata": {},
   "source": [
    "### 2.2  Видалення та заповнення пропусків в даних  \n",
    "З попередніх лекцій:  \n",
    "**df.dropna()** - видалити рядки, в яких є пропуски  \n",
    "**df.fillna()** - заповнити рядки, в яких є пропуски вказаною інформацією  \n",
    "  \n",
    "**Деякі базові стратегії заповнення пропущених значень:**  \n",
    "- Медіана або середнє значення: Замініть пропущені значення середнім або медіанним значенням стовпця.  \n",
    "- Мода: Заповнення пропущених значень найчастішим значенням у стовпці.  \n",
    "- Лінійна інтерполяція: Оцінка пропущених значень на основі відомих значень в товпчику.  \n",
    "- Прогностичні моделі: Використання моделей машинного навчання для прогнозування пропущених значень на основі інших ознак у наборі даних.\n",
    "\n",
    "<span style=\"color:red\"> **!!!**</span> Кожна стратегія має свої переваги та недоліки, і вибір методу повинен бути спрямований на особливості набору даних та конкретні вимоги аналізу або моделювання. Крім того, важливо врахувати потенційний вплив заповнення на цілісність та вірогідність даних.  \n",
    "<span style=\"color:red\">**!!!**</span> Немає однозначної відповіді на питання про те, який відсоток пропущених значень є прийнятним для заповнення, оскільки це залежить від конкретного дослідження та його вимог. Ви можете провести експерименти з різними відсотками заповнення та оцінити, як це впливає на результати вашого аналізу або моделі."
   ]
  },
  {
   "cell_type": "code",
   "execution_count": null,
   "metadata": {},
   "outputs": [],
   "source": [
    "#спочатку перевіримо кількість пропущених значень в кожному стовпчику\n",
    "data.info()"
   ]
  },
  {
   "cell_type": "markdown",
   "metadata": {},
   "source": [
    "Отже, є пропуски в:  \n",
    "- стовпчиках з кількісними даними, наприклад, **Age, ConvertedComp**  \n",
    "- стовпчиках із категоріальними даними, наприклад, **EdLevel, Gender**   \n",
    "\n",
    "Спочатку опрацюємо пропуски в числових даних"
   ]
  },
  {
   "cell_type": "code",
   "execution_count": null,
   "metadata": {},
   "outputs": [],
   "source": [
    "# Пропущені дані в стовпчику Age заповнимо сумою значень стовпчиків Age1stCode та YearsCode\n",
    "data['Age'].fillna(data[['Age1stCode','YearsCode']].sum(axis=1), inplace=True)"
   ]
  },
  {
   "cell_type": "code",
   "execution_count": null,
   "metadata": {},
   "outputs": [],
   "source": [
    "# Пропущені дані в стовпчику ConvertedComp заповнимо медіанними по країнах зарплатами\n",
    "data['ConvertedComp'].fillna(data.groupby('Country')['ConvertedComp'].transform('median'), inplace=True)"
   ]
  },
  {
   "cell_type": "markdown",
   "metadata": {},
   "source": [
    "Далі заповнимо пропуски в категоріальних даних  \n",
    "Є такі поширені стратегії заповнення пропусків в категоріальних даних:  \n",
    "- заповнити значеннями найпопулярнішої категорії  \n",
    "- заповнити значеннями іншої категорії  "
   ]
  },
  {
   "cell_type": "code",
   "execution_count": null,
   "metadata": {},
   "outputs": [],
   "source": [
    "# Які є категорії в стовпчику EdLevel? \n",
    "data['EdLevel'].value_counts()"
   ]
  },
  {
   "cell_type": "code",
   "execution_count": null,
   "metadata": {},
   "outputs": [],
   "source": [
    "# Заповнюю пропущені значення найпопулярнішою категорією\n",
    "data['EdLevel'].fillna(data['EdLevel'].value_counts().index[0], inplace=True)"
   ]
  },
  {
   "cell_type": "code",
   "execution_count": null,
   "metadata": {},
   "outputs": [],
   "source": [
    "# Які є категорії в стовпчику Gender? \n",
    "data['Gender'].value_counts()"
   ]
  },
  {
   "cell_type": "code",
   "execution_count": null,
   "metadata": {},
   "outputs": [],
   "source": [
    "# Заповнюю пропущені значення новою категорією Not given\n",
    "data['Gender'].fillna('Not given', inplace=True)"
   ]
  },
  {
   "cell_type": "code",
   "execution_count": null,
   "metadata": {},
   "outputs": [],
   "source": [
    "# Якщо необхідно видалити всі рядки, в яких є пропуски\n",
    "# data.dropna(inplace=True)\n",
    "data.info()"
   ]
  },
  {
   "cell_type": "markdown",
   "metadata": {},
   "source": [
    "<span style=\"color:red\"> **!!!**</span> після очищення даних датафрейм варто перезаписати  \n",
    "\n",
    "## Розвідковий аналіз даних  \n",
    "Розвідковий аналіз даних може бути як окремим аналізом, так і підготовчим етапом перед використанням алгоритмів машинного навчання.  В цій темі розвідковий аналіз даних буде використано як окремий аналіз з метою кращого розуміння інформації, що міститься в датафреймі data."
   ]
  },
  {
   "cell_type": "markdown",
   "metadata": {},
   "source": [
    "### Скільки респондентів професійно займається програмуванням, а для скількох програмування - хоббі?"
   ]
  },
  {
   "cell_type": "code",
   "execution_count": null,
   "metadata": {},
   "outputs": [],
   "source": [
    "sns.catplot(data=data, x='MainBranch', hue='Employment', kind='count', height=3.5, aspect=2);"
   ]
  },
  {
   "cell_type": "markdown",
   "metadata": {},
   "source": [
    "### Галузь знань, за якою респонденти здобули вищу освіту"
   ]
  },
  {
   "cell_type": "code",
   "execution_count": null,
   "metadata": {},
   "outputs": [],
   "source": [
    "sns.catplot(data=data, y='UndergradMajor', kind='count', height=3.5, aspect=3);"
   ]
  },
  {
   "cell_type": "markdown",
   "metadata": {},
   "source": [
    "### Чим більше працюєш, тим більшою є зарплата?"
   ]
  },
  {
   "cell_type": "code",
   "execution_count": null,
   "metadata": {},
   "outputs": [],
   "source": [
    "data.groupby('NEWOvertime')[['ConvertedComp', 'YearsCodePro']].median()"
   ]
  },
  {
   "cell_type": "markdown",
   "metadata": {},
   "source": [
    "### Топ-20 країн за рівнем зп ІТ-фахівців"
   ]
  },
  {
   "cell_type": "code",
   "execution_count": null,
   "metadata": {},
   "outputs": [],
   "source": [
    "top = data.groupby('Country')[['ConvertedComp']].median().sort_values('ConvertedComp', ascending=0).head(20)\n",
    "top['Country'] = top.index # назви країн зробити окремим стовпчиком датафрейму"
   ]
  },
  {
   "cell_type": "code",
   "execution_count": null,
   "metadata": {},
   "outputs": [],
   "source": [
    "sns.catplot(data=top, x='Country', y='ConvertedComp', kind='bar', height=4, aspect=2.5);\n",
    "plt.xticks(rotation=90);"
   ]
  },
  {
   "cell_type": "code",
   "execution_count": null,
   "metadata": {},
   "outputs": [],
   "source": []
  }
 ],
 "metadata": {
  "kernelspec": {
   "display_name": "Python 3 (ipykernel)",
   "language": "python",
   "name": "python3"
  },
  "language_info": {
   "codemirror_mode": {
    "name": "ipython",
    "version": 3
   },
   "file_extension": ".py",
   "mimetype": "text/x-python",
   "name": "python",
   "nbconvert_exporter": "python",
   "pygments_lexer": "ipython3",
   "version": "3.12.4"
  }
 },
 "nbformat": 4,
 "nbformat_minor": 4
}
